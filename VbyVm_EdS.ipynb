{
 "metadata": {
  "name": ""
 },
 "nbformat": 3,
 "nbformat_minor": 0,
 "worksheets": [
  {
   "cells": [
    {
     "cell_type": "heading",
     "level": 1,
     "metadata": {},
     "source": [
      "Luminosity Volume Test for E-dS Universe"
     ]
    },
    {
     "cell_type": "markdown",
     "metadata": {},
     "source": [
      "Import libraries for symbolic math solving, numerical calculations and plotting."
     ]
    },
    {
     "cell_type": "code",
     "collapsed": false,
     "input": [
      "import numpy as np\n",
      "import math\n",
      "import sympy as sy\n",
      "from sympy.solvers import solve\n",
      "from sympy import Symbol as sym\n",
      "import matplotlib\n",
      "import matplotlib.pyplot as plt\n",
      "from astropy.io import ascii"
     ],
     "language": "python",
     "metadata": {},
     "outputs": [],
     "prompt_number": 1
    },
    {
     "cell_type": "code",
     "collapsed": false,
     "input": [
      "# Read data file in standard ascii format removing all the delimiters\n",
      "data = ascii.read('/home/rohin/Documents/Python_Workspace/Lum_Vol_Study/vvmtest/3CRR_cat.dat')\n",
      "#print data\n",
      "\n",
      "#copy Redshift values in an array\n",
      "z = data['Redshift']\n",
      "#print z\n",
      "\n",
      "#copy Luminosity values in an array\n",
      "F = data['178-MHz_flux']\n",
      "#print F"
     ],
     "language": "python",
     "metadata": {},
     "outputs": [],
     "prompt_number": 2
    },
    {
     "cell_type": "code",
     "collapsed": false,
     "input": [
      "data"
     ],
     "language": "python",
     "metadata": {},
     "outputs": [
      {
       "html": [
        "&lt;Table masked=False length=173&gt;\n",
        "<table id=\"table140593481149456\">\n",
        "<thead><tr><th>3CRR_name</th><th>IAU_name</th><th>Redshift</th><th>178-MHz_flux</th><th>Sp_index</th><th>FR_class</th><th>5-GHz_core_flux</th><th>Best_radio_map</th></tr></thead>\n",
        "<thead><tr><th>string56</th><th>string64</th><th>float64</th><th>float64</th><th>float64</th><th>int64</th><th>string40</th><th>string104</th></tr></thead>\n",
        "<tr><td>4C12.03</td><td>0007+124</td><td>0.156</td><td>10.9</td><td>0.87</td><td>2</td><td>3.5</td><td>[601]</td></tr>\n",
        "<tr><td>3C6.1</td><td>0013+790</td><td>0.8404</td><td>14.9</td><td>0.68</td><td>2</td><td>4.4</td><td>[530]</td></tr>\n",
        "<tr><td>3C9</td><td>0017+154</td><td>2.012</td><td>19.4</td><td>1.12</td><td>2</td><td>4.9</td><td>[504]</td></tr>\n",
        "<tr><td>3C13</td><td>0031+391</td><td>1.351</td><td>13.1</td><td>0.93</td><td>2</td><td>0.36</td><td>[503,537]</td></tr>\n",
        "<tr><td>3C14</td><td>0033+183</td><td>1.469</td><td>11.3</td><td>0.81</td><td>2</td><td>10.6</td><td>[527]</td></tr>\n",
        "<tr><td>3C16</td><td>0035+130</td><td>0.405</td><td>12.2</td><td>0.94</td><td>2</td><td>0.26</td><td>[533,601]</td></tr>\n",
        "<tr><td>3C19</td><td>0038+328</td><td>0.482</td><td>13.2</td><td>0.63</td><td>2</td><td>0.47</td><td>[533]</td></tr>\n",
        "<tr><td>3C20</td><td>0040+517</td><td>0.174</td><td>46.8</td><td>0.66</td><td>2</td><td>2.6</td><td>[605,505,522]</td></tr>\n",
        "<tr><td>3C22</td><td>0048+509</td><td>0.938</td><td>13.2</td><td>0.78</td><td>2</td><td>7.83</td><td>[528]</td></tr>\n",
        "<tr><td>3C28</td><td>0053+261</td><td>0.1952</td><td>17.8</td><td>1.06</td><td>2</td><td>&lt;0.2</td><td>[506]</td></tr>\n",
        "<tr><td>...</td><td>...</td><td>...</td><td>...</td><td>...</td><td>...</td><td>...</td><td>...</td></tr>\n",
        "<tr><td>3C449</td><td>2229+390</td><td>0.0171</td><td>12.5</td><td>0.58</td><td>1</td><td>37</td><td>[506,650]</td></tr>\n",
        "<tr><td>3C452</td><td>2243+394</td><td>0.0811</td><td>59.3</td><td>0.78</td><td>2</td><td>130</td><td>[646]</td></tr>\n",
        "<tr><td>NGC7385</td><td>2247+113</td><td>0.0243</td><td>11.7</td><td>0.75</td><td>1</td><td>121</td><td>[506,539]</td></tr>\n",
        "<tr><td>3C454</td><td>2249+185</td><td>1.757</td><td>12.6</td><td>0.9</td><td>0</td><td>&lt;200</td><td>[531]</td></tr>\n",
        "<tr><td>3C454.3</td><td>2251+158</td><td>0.859</td><td>14.2</td><td>0.04</td><td>0</td><td>12200</td><td>[651]</td></tr>\n",
        "<tr><td>3C455</td><td>2252+129</td><td>0.5427</td><td>14.0</td><td>0.71</td><td>2</td><td>1.4</td><td>[519]</td></tr>\n",
        "<tr><td>3C457</td><td>2309+184</td><td>0.428</td><td>14.3</td><td>1.01</td><td>2</td><td>2.1</td><td>[601,533]</td></tr>\n",
        "<tr><td>3C465</td><td>2335+267</td><td>0.0293</td><td>41.2</td><td>0.75</td><td>1</td><td>270</td><td>[506,652]</td></tr>\n",
        "<tr><td>3C469.1</td><td>2352+796</td><td>1.336</td><td>12.1</td><td>0.96</td><td>2</td><td>2.6</td><td>[653]</td></tr>\n",
        "<tr><td>3C470</td><td>2356+438</td><td>1.653</td><td>11.0</td><td>0.77</td><td>2</td><td>2.0</td><td>[503]</td></tr>\n",
        "</table>"
       ],
       "metadata": {},
       "output_type": "pyout",
       "prompt_number": 3,
       "text": [
        "<Table masked=False length=173>\n",
        "3CRR_name IAU_name Redshift ... FR_class 5-GHz_core_flux Best_radio_map\n",
        " string56 string64 float64  ...  int64       string40      string104   \n",
        "--------- -------- -------- ... -------- --------------- --------------\n",
        "  4C12.03 0007+124    0.156 ...        2             3.5          [601]\n",
        "    3C6.1 0013+790   0.8404 ...        2             4.4          [530]\n",
        "      3C9 0017+154    2.012 ...        2             4.9          [504]\n",
        "     3C13 0031+391    1.351 ...        2            0.36      [503,537]\n",
        "     3C14 0033+183    1.469 ...        2            10.6          [527]\n",
        "     3C16 0035+130    0.405 ...        2            0.26      [533,601]\n",
        "     3C19 0038+328    0.482 ...        2            0.47          [533]\n",
        "     3C20 0040+517    0.174 ...        2             2.6  [605,505,522]\n",
        "     3C22 0048+509    0.938 ...        2            7.83          [528]\n",
        "     3C28 0053+261   0.1952 ...        2            <0.2          [506]\n",
        "      ...      ...      ... ...      ...             ...            ...\n",
        "    3C449 2229+390   0.0171 ...        1              37      [506,650]\n",
        "    3C452 2243+394   0.0811 ...        2             130          [646]\n",
        "  NGC7385 2247+113   0.0243 ...        1             121      [506,539]\n",
        "    3C454 2249+185    1.757 ...        0            <200          [531]\n",
        "  3C454.3 2251+158    0.859 ...        0           12200          [651]\n",
        "    3C455 2252+129   0.5427 ...        2             1.4          [519]\n",
        "    3C457 2309+184    0.428 ...        2             2.1      [601,533]\n",
        "    3C465 2335+267   0.0293 ...        1             270      [506,652]\n",
        "  3C469.1 2352+796    1.336 ...        2             2.6          [653]\n",
        "    3C470 2356+438    1.653 ...        2             2.0          [503]"
       ]
      }
     ],
     "prompt_number": 3
    },
    {
     "cell_type": "markdown",
     "metadata": {},
     "source": [
      "Find out the min. Luminosity in the data points to find the limit of the telescope and print it"
     ]
    },
    {
     "cell_type": "code",
     "collapsed": false,
     "input": [
      "#z0 = min(z)\n",
      "#print z0\n",
      "\n",
      "F0 = min(F)\n",
      "print \"Min. Luminosity: %.4f\" %F0\n",
      "\n",
      "#Total no. of samples\n",
      "n = len(F)\n",
      "print \"no. of samples: %d\" %n"
     ],
     "language": "python",
     "metadata": {},
     "outputs": [
      {
       "output_type": "stream",
       "stream": "stdout",
       "text": [
        "Min. Luminosity: 10.9000\n",
        "no. of samples: 173\n"
       ]
      }
     ],
     "prompt_number": 6
    },
    {
     "cell_type": "markdown",
     "metadata": {},
     "source": [
      "Method for calculating Luminosity ratio of a data point ($F/F_0$) and take it's square-root for using in further calculations"
     ]
    },
    {
     "cell_type": "code",
     "collapsed": false,
     "input": [
      "def ratio_lum_sr(i):\n",
      "  return math.sqrt(F[i]/F0)"
     ],
     "language": "python",
     "metadata": {},
     "outputs": [],
     "prompt_number": 7
    },
    {
     "cell_type": "markdown",
     "metadata": {},
     "source": [
      "Method for calculating comoving distance of a data point using the Redshift - This definition is based on the cosmology model we take. Here the distance for E-dS universe is considered. Also note that $c/H_0$ ratio is cancelled in the equations and hence not taken."
     ]
    },
    {
     "cell_type": "code",
     "collapsed": false,
     "input": [
      "def dC(i):\n",
      "  return 1-1/math.sqrt(1+z[i])\n",
      "#print dC(1)\n",
      "#print math.pow(dC(1),3)"
     ],
     "language": "python",
     "metadata": {},
     "outputs": [],
     "prompt_number": 8
    },
    {
     "cell_type": "markdown",
     "metadata": {},
     "source": [
      "Co-moving volume of a data point considering a flat universe where $V=\\frac{4\\pi}{3}d_C^3$. Also note that since we are interested in the ratio later the common coefficient $4\\pi/3$ is not taken."
     ]
    },
    {
     "cell_type": "code",
     "collapsed": false,
     "input": [
      "def vC(i):\n",
      "  return math.pow(dC(i),3)\n",
      "#print vC(1)"
     ],
     "language": "python",
     "metadata": {},
     "outputs": [],
     "prompt_number": 9
    },
    {
     "cell_type": "markdown",
     "metadata": {},
     "source": [
      "Method for calculating $z_{max}$ value for each data point by solving the following equation."
     ]
    },
    {
     "cell_type": "code",
     "collapsed": false,
     "input": [
      "def zm(i):\n",
      "  zm=sym('zm')\n",
      "  eqn = (1+zm)*(1-1/sy.sqrt(1+zm))-ratio_lum_sr(i)*(1+z[i])*dC(i)\n",
      "  zmsol = max(solve(eqn,zm))\n",
      "  #print \"Zm: %.4f\" %zmsol\n",
      "  return zmsol\n",
      "#print zm(1)"
     ],
     "language": "python",
     "metadata": {},
     "outputs": [],
     "prompt_number": 10
    },
    {
     "cell_type": "markdown",
     "metadata": {},
     "source": [
      "Methods for calculating maximum (limiting) comoving distance and volume "
     ]
    },
    {
     "cell_type": "code",
     "collapsed": false,
     "input": [
      "def dCM(i):\n",
      "  return 1-1/math.sqrt(1+zm(i))\n",
      "#print dCM(1)\n",
      "\n",
      "def vCM(i):\n",
      "  return math.pow(dCM(i),3)\n",
      "#print vCM(1)"
     ],
     "language": "python",
     "metadata": {},
     "outputs": [],
     "prompt_number": 11
    },
    {
     "cell_type": "markdown",
     "metadata": {},
     "source": [
      "Method for calculating $V/V_m$ ratio for each data point"
     ]
    },
    {
     "cell_type": "code",
     "collapsed": false,
     "input": [
      "def vvm(i):\n",
      "  return vC(i)/vCM(i)\n",
      "#print vvm(1)"
     ],
     "language": "python",
     "metadata": {},
     "outputs": [],
     "prompt_number": 12
    },
    {
     "cell_type": "markdown",
     "metadata": {},
     "source": [
      "Calculating the mean $V/V_m$ while storing each data point's $V/V_m$ in a file to store"
     ]
    },
    {
     "cell_type": "code",
     "collapsed": false,
     "input": [
      "def vvm_mean():\n",
      "  sum = 0\n",
      "  vvm_file = open('vvm_data_EdS.dat','a')\n",
      "  for i in range(0,n-1):\n",
      "    vvm_file.write(\"%f\\n\"%vvm(i))\n",
      "    sum = sum + vvm(i)\n",
      "  vvm_mean = sum/n\n",
      "  vvm_file.close()\n",
      "  print \"V/Vm ratio: %.4f\"%vvm_mean\n",
      "  return vvm_mean\n",
      "\n",
      "vvm_mean()"
     ],
     "language": "python",
     "metadata": {},
     "outputs": [
      {
       "output_type": "stream",
       "stream": "stdout",
       "text": [
        "V/Vm ratio: 0.6487\n"
       ]
      },
      {
       "metadata": {},
       "output_type": "pyout",
       "prompt_number": 13,
       "text": [
        "0.6486937498472554"
       ]
      }
     ],
     "prompt_number": 13
    },
    {
     "cell_type": "code",
     "collapsed": false,
     "input": [],
     "language": "python",
     "metadata": {},
     "outputs": []
    }
   ],
   "metadata": {}
  }
 ]
}